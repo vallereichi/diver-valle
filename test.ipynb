{
 "cells": [
  {
   "cell_type": "code",
   "execution_count": 1,
   "metadata": {},
   "outputs": [],
   "source": [
    "import numpy as np\n",
    "import random\n",
    "import matplotlib.pyplot as plt\n",
    "from de import initialize_generation, mutation"
   ]
  },
  {
   "cell_type": "code",
   "execution_count": 2,
   "metadata": {},
   "outputs": [
    {
     "name": "stdout",
     "output_type": "stream",
     "text": [
      "[INFO]: initialized first generation with 20 unique base vectors of dimension 2\n"
     ]
    },
    {
     "data": {
      "text/plain": [
       "[array([ 77.08662299, -64.85898992]),\n",
       " array([ 69.96655933, -28.99998089]),\n",
       " array([ 57.08740193, -54.17688769]),\n",
       " array([ 74.4121902 , -26.33685333]),\n",
       " array([ 50.49412935, -38.39537208]),\n",
       " array([ 77.80948989, -85.05214304]),\n",
       " array([ 34.33141403, -74.13228997]),\n",
       " array([ 10.77791761, -66.58009408]),\n",
       " array([ 65.19776661, -74.69078493]),\n",
       " array([ 52.78634605, -97.48722495]),\n",
       " array([ 23.18331617, -29.96826831]),\n",
       " array([ 94.48386551, -19.27121136]),\n",
       " array([  8.65542911, -21.01595207]),\n",
       " array([ 97.46535687, -87.90890452]),\n",
       " array([ 14.19840212, -28.16073379]),\n",
       " array([ 10.76589923, -47.01815164]),\n",
       " array([ 48.00180815, -25.16550289]),\n",
       " array([ 81.58633923, -56.50768778]),\n",
       " array([ 89.43976997, -21.04108947]),\n",
       " array([ 73.61403197, -99.83942288])]"
      ]
     },
     "execution_count": 2,
     "metadata": {},
     "output_type": "execute_result"
    }
   ],
   "source": [
    "X = initialize_generation(2, [(0, 100), (-100, 0)])\n",
    "X"
   ]
  },
  {
   "cell_type": "code",
   "execution_count": 7,
   "metadata": {},
   "outputs": [
    {
     "data": {
      "text/plain": [
       "20"
      ]
     },
     "execution_count": 7,
     "metadata": {},
     "output_type": "execute_result"
    }
   ],
   "source": [
    "V = mutation(X, 0.8)\n",
    "len(np.unique(V, axis=0))"
   ]
  },
  {
   "cell_type": "code",
   "execution_count": null,
   "metadata": {},
   "outputs": [],
   "source": []
  },
  {
   "cell_type": "code",
   "execution_count": null,
   "metadata": {},
   "outputs": [],
   "source": []
  }
 ],
 "metadata": {
  "kernelspec": {
   "display_name": "venv",
   "language": "python",
   "name": "python3"
  },
  "language_info": {
   "codemirror_mode": {
    "name": "ipython",
    "version": 3
   },
   "file_extension": ".py",
   "mimetype": "text/x-python",
   "name": "python",
   "nbconvert_exporter": "python",
   "pygments_lexer": "ipython3",
   "version": "3.9.19"
  }
 },
 "nbformat": 4,
 "nbformat_minor": 2
}
