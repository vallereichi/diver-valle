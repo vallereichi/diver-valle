{
 "cells": [
  {
   "cell_type": "code",
   "execution_count": 591,
   "metadata": {},
   "outputs": [],
   "source": [
    "import numpy as np\n",
    "import matplotlib.pyplot as plt\n",
    "import random\n"
   ]
  },
  {
   "cell_type": "markdown",
   "metadata": {},
   "source": [
    "# Creating the base vectors\n",
    "\n",
    "The base vectors initialize multiple chains that rnu through the differential evolution algorithm.\n",
    "In order to find the global minimum it is necessary to have multiple chains since they may end up findin only a local minimum.\n",
    "\n",
    "Every vector of this initial generation can be of arbitrary dimension\n",
    "\n",
    "$$\\textbf{X} = \\textbf{X}_1, ..., \\textbf{X}_n$$\n",
    "\n",
    "for each dimension a range can be specified which acts like a boundary.\n",
    "\n",
    "Furthermore for each dimesnion(parameter) a different likelihood can be provided which is later evaluated when performing the differential evolution.\n",
    "\n",
    "For the initialization the dimension must be specified as well the ranges. Then random samples from these ranges create the base vectors.\n",
    "\n",
    "### Here is a 2D-Example:"
   ]
  },
  {
   "cell_type": "code",
   "execution_count": 592,
   "metadata": {},
   "outputs": [],
   "source": [
    "parameters = {\n",
    "   'X': {\n",
    "       'range': [0,1],\n",
    "       'likelihood': \"some funtion\",\n",
    "   } ,\n",
    "   'Y': {\n",
    "       'range': [0,1],\n",
    "       'likelihood': \"some function\",\n",
    "   }\n",
    "}\n",
    "\n",
    "\n",
    "initial_generation = [np.([random.uniform(parameters['X']['range'][0], parameters['X']['range'][1]), random.uniform(parameters['Y']['range'][0], parameters['Y']['range'][1])]) for i in range(10)]\n",
    "initial_generation = np.(initial_generation)"
   ]
  },
  {
   "cell_type": "code",
   "execution_count": 593,
   "metadata": {},
   "outputs": [
    {
     "data": {
      "text/plain": [
       "[]"
      ]
     },
     "execution_count": 593,
     "metadata": {},
     "output_type": "execute_result"
    },
    {
     "data": {
      "image/png": "[encoded data removed]",
      "text/plain": [
       "<Figure size 500x500 with 1 Axes>"
      ]
     },
     "metadata": {},
     "output_type": "display_data"
    }
   ],
   "source": [
    "fig, ax = plt.subplots(figsize=(5,5))\n",
    "\n",
    "ax.scatter(initial_generation.T[0], initial_generation.T[1], color='black')\n",
    "#ax.set_xlabel\"X\")\n",
    "#ax.set_ylabel \"Y\")\n",
    "ax.set_xlim 0, 1)\n",
    "ax.set_ylim 0,1)\n",
    "ax.minorticks_off()\n",
    "ax.set_xticks([])\n",
    "ax.set_yticks([])\n",
    "\n"
   ]
  },
  {
   "cell_type": "markdown",
   "metadata": {},
   "source": [
    "# Mutation\n",
    "\n",
    "This is the process of creating the donor vetors $\\textbf{V}_i$:\n",
    "\n",
    "1. choose 3 random unique vectors from the current generation ($\\textbf{X}_a, \\textbf{X}_b, \\textbf{X}_c$)\n",
    "2. Take the difference vector between two of those vectors \n",
    "3. Scale the difference vector by a scaling factor\n",
    "4. Add the resulting vector to the third randomly chosen base vector\n",
    "\n",
    "$$ \\textbf{V}_i = \\textbf{X}_a + F (\\textbf{X}_b - \\textbf{X}_c) $$\n",
    "\n",
    "The scaling factor F must be between 0 and 1. Values closer to 1 lead to better exploration of the parameter space.\n",
    "\n",
    "This is done for every base vector of the current generation. Here it is important that the current base vector matches none of the randomly chosen ones."
   ]
  },
  {
   "cell_type": "code",
   "execution_count": 594,
   "metadata": {},
   "outputs": [],
   "source": [
    "random_sample = np.(random.sample(list(initial_generation)[1:],3))\n",
    "F = 0.8\n",
    "diff = random_sample[1] - random_sample[2]\n",
    "V_i = random_sample[0] + F * diff\n",
    "offset = 1e-2\n"
   ]
  },
  {
   "cell_type": "code",
   "execution_count": 595,
   "metadata": {},
   "outputs": [
    {
     "data": {
      "text/plain": [
       "Text(0.04855014912262267, 0.8319091597793599, '$\\\\text{X}_c$')"
      ]
     },
     "execution_count": 595,
     "metadata": {},
     "output_type": "execute_result"
    },
    {
     "data": {
      "image/png": "[encoded data removed]",
      "text/plain": [
       "<Figure size 500x500 with 1 Axes>"
      ]
     },
     "metadata": {},
     "output_type": "display_data"
    }
   ],
   "source": [
    "fig, ax = plt.subplots(figsize=(5,5))\n",
    "\n",
    "ax.scatter(initial_generation.T[0], initial_generation.T[1], color='black')\n",
    "ax.set_xticks([])\n",
    "ax.set_yticks([])\n",
    "ax.plot((random_sample[1][0], random_sample[2][0]), (random_sample[1][1], random_sample[2][1]), color='red', linestyle='--')\n",
    "ax.scatter(V_i[0], V_i[1], color='blue')\n",
    "ax.arrow(random_sample[0][0], random_sample[0][1], diff[0] * F, diff[1] * F, color='blue', linestyle='-', head_width=0.03, length_includes_head=True)\n",
    "ax.scatter(random_sample.T[0], random_sample.T[1], color='red')\n",
    "ax.annotate(\"$\\\\text{V}_i$\", V_i + offset)\n",
    "ax.annotate(\"$\\\\text{X}_i$\", initial_generation[0] + offset)\n",
    "ax.annotate(\"$\\\\text{X}_a$\" , random_sample[0] + offset)\n",
    "ax.annotate(\"$\\\\text{X}_b$\" , random_sample[1] + offset)\n",
    "ax.annotate(\"$\\\\text{X}_c$\" , random_sample[2] + offset)\n",
    "\n",
    "\n",
    "\n",
    "\n"
   ]
  },
  {
   "cell_type": "markdown",
   "metadata": {},
   "source": [
    "# Crossover\n",
    "\n",
    "Here a set of trial vectors $\\textbf{U}$ is being created in the following way:\n",
    "\n",
    "for each dimension choose a random number between 0 and 1 ($0 \\leq r \\leq 1$). This value is then compared to the crossover selector $C_r$.\n",
    "\n",
    "1. if $r_d \\leq C_r$: the component for the respective dimension is taken from the donor vector $U_{i,d} = V_{i,d}$\n",
    "2. if $r_d > C_r$:    the component for the respective dimension is taken from the base vector  $U_{i,d} = X_{i,d}$\n",
    "\n",
    "After all the components of the trial vectors have been set, one dimension is chosen at random and is set to the value from the donor vector. This is done to ensure a difference between base and trial vector.\n",
    "$C_r$ should be kept high for better exploration. Low values allow for seperation between different dimensions which is useful for seperable objective functions."
   ]
  },
  {
   "cell_type": "code",
   "execution_count": 596,
   "metadata": {},
   "outputs": [],
   "source": [
    "Cr = 0.5\n",
    "U_i = []\n",
    "for i in range(len(initial_generation[0])):\n",
    "    r = random.uniform(0, 1)\n",
    "    if r <= Cr:\n",
    "        U_i.append(V_i[i])\n",
    "    else:\n",
    "        U_i.append(initial_generation[0][i])\n",
    "\n"
   ]
  },
  {
   "cell_type": "code",
   "execution_count": 597,
   "metadata": {},
   "outputs": [
    {
     "data": {
      "text/plain": [
       "[]"
      ]
     },
     "execution_count": 597,
     "metadata": {},
     "output_type": "execute_result"
    },
    {
     "data": {
      "image/png": "[encoded data removed]",
      "text/plain": [
       "<Figure size 500x500 with 1 Axes>"
      ]
     },
     "metadata": {},
     "output_type": "display_data"
    }
   ],
   "source": [
    "fig, ax = plt.subplots(figsize=(5,5))\n",
    "\n",
    "ax.scatter(initial_generation.T[0], initial_generation.T[1], color='black')\n",
    "ax.scatter(random_sample.T[0], random_sample.T[1], color='red')\n",
    "ax.scatter(V_i[0], V_i[1], color='blue', edgecolors='red')\n",
    "ax.scatter(U_i[0], U_i[1], color='darkgreen', edgecolors='red')\n",
    "\n",
    "ax.annotate(\"$\\\\text{V}_i$\", V_i + offset)\n",
    "ax.annotate(\"$\\\\text{U}_i$\", np.(U_i) + offset)\n",
    "ax.annotate(\"$\\\\text{X}_i$\", initial_generation[0] + offset)\n",
    "ax.annotate(\"$\\\\text{X}_a$\" , random_sample[0] + offset)\n",
    "ax.annotate(\"$\\\\text{X}_b$\" , random_sample[1] + offset)\n",
    "ax.annotate(\"$\\\\text{X}_c$\" , random_sample[2] + offset)\n",
    "\n",
    "ax.scatter(V_i[0], initial_generation[0][1], color='black', alpha=0.6, edgecolors='red')\n",
    "ax.hlines((initial_generation[0][1], V_i[1]), V_i[0], initial_generation[0][0], linestyles='--', linewidth=0.8)\n",
    "ax.vlines((V_i[0], initial_generation[0][0]), initial_generation[0][1], V_i[1], linestyles='--', linewidth=0.8)\n",
    "\n",
    "ax.set_xticks([])\n",
    "ax.set_yticks([])\n"
   ]
  },
  {
   "cell_type": "markdown",
   "metadata": {},
   "source": [
    "# Selection\n",
    "\n",
    "Differential evolution is a greedy algorithm. Therefore each trial vector $\\textbf{U}_i$ is compared to the base vector $\\textbf{X}_i$ and the one with the better likelihood or objective function will progress into the next generation.\n"
   ]
  },
  {
   "cell_type": "code",
   "execution_count": 602,
   "metadata": {},
   "outputs": [
    {
     "data": {
      "image/png": "[encoded data removed]",
      "text/plain": [
       "<Figure size 1500x500 with 3 Axes>"
      ]
     },
     "metadata": {},
     "output_type": "display_data"
    }
   ],
   "source": [
    "fig, (ax1, ax2, ax3) = plt.subplots(ncols=3, figsize=(15,5))\n",
    "\n",
    "\n",
    "ax1.scatter(initial_generation.T[0], initial_generation.T[1], color='black')\n",
    "ax1.set_xticks([])\n",
    "ax1.set_yticks([])\n",
    "ax1.annotate(\"$\\\\text{X}_i$\", initial_generation[0] + offset)\n",
    "\n",
    "\n",
    "\n",
    "ax2.scatter(initial_generation.T[0], initial_generation.T[1], color='black')\n",
    "ax2.set_xticks([])\n",
    "ax2.set_yticks([])\n",
    "ax2.plot((random_sample[1][0], random_sample[2][0]), (random_sample[1][1], random_sample[2][1]), color='red', linestyle='--')\n",
    "ax2.scatter(V_i[0], V_i[1], color='blue')\n",
    "ax2.arrow(random_sample[0][0], random_sample[0][1], diff[0] * F, diff[1] * F, color='blue', linestyle='-', head_width=0.03, length_includes_head=True)\n",
    "ax2.scatter(random_sample.T[0], random_sample.T[1], color='red')\n",
    "ax2.annotate(\"$\\\\text{V}_i$\", V_i + offset)\n",
    "ax2.annotate(\"$\\\\text{X}_i$\", initial_generation[0] + offset)\n",
    "ax2.annotate(\"$\\\\text{X}_a$\" , random_sample[0] + offset)\n",
    "ax2.annotate(\"$\\\\text{X}_b$\" , random_sample[1] + offset)\n",
    "ax2.annotate(\"$\\\\text{X}_c$\" , random_sample[2] + offset)\n",
    "\n",
    "\n",
    "ax3.scatter(initial_generation.T[0], initial_generation.T[1], color='black')\n",
    "ax3.scatter(random_sample.T[0], random_sample.T[1], color='red')\n",
    "ax3.scatter(V_i[0], V_i[1], color='blue', edgecolors='red')\n",
    "ax3.scatter(U_i[0], U_i[1], color='darkgreen', edgecolors='red')\n",
    "\n",
    "ax3.annotate(\"$\\\\text{V}_i$\", V_i + offset)\n",
    "ax3.annotate(\"$\\\\text{U}_i$\", np.(U_i) + offset)\n",
    "ax3.annotate(\"$\\\\text{X}_i$\", initial_generation[0] + offset)\n",
    "ax3.annotate(\"$\\\\text{X}_a$\" , random_sample[0] + offset)\n",
    "ax3.annotate(\"$\\\\text{X}_b$\" , random_sample[1] + offset)\n",
    "ax3.annotate(\"$\\\\text{X}_c$\" , random_sample[2] + offset)\n",
    "\n",
    "ax3.scatter(V_i[0], initial_generation[0][1], color='black', alpha=0.6, edgecolors='red')\n",
    "ax3.hlines((initial_generation[0][1], V_i[1]), V_i[0], initial_generation[0][0], linestyles='--', linewidth=0.8)\n",
    "ax3.vlines((V_i[0], initial_generation[0][0]), initial_generation[0][1], V_i[1], linestyles='--', linewidth=0.8)\n",
    "\n",
    "ax3.set_xticks([])\n",
    "ax3.set_yticks([])\n",
    "\n",
    "fig.savefig(\"plots.svg\")\n",
    "fig.savefig(\"plots.png\", dpi=1000)"
   ]
  },
  {
   "cell_type": "markdown",
   "metadata": {},
   "source": [
    "# Animation"
   ]
  },
  {
   "cell_type": "code",
   "execution_count": 1,
   "metadata": {},
   "outputs": [],
   "source": [
    "data = [{'LogLike': 0,\n",
    "  'X': {'likelihood': ([-4.35000177, -6.01391908, -3.91766588, -4.32866805, -6.57323634,\n",
    "          -6.55297806, -4.88325948, -4.57892136, -3.93881556, -5.39382592]),\n",
    "   'values': ([31.33814663,  9.01953367, 51.54791956, 68.19884057,  3.88218972,\n",
    "           4.05823467, 77.83650369, 73.05212442, 54.39497436, 15.6005219 ])},\n",
    "  'Y': {'likelihood': ([-6.54863448, -4.71058363, -6.95891756, -6.07314069, -3.92615684,\n",
    "          -5.66762156, -5.74341092, -3.92721403, -4.61125558, -4.092623  ]),\n",
    "   'values': ([ 4.09606841, 24.76648545, 99.34974573,  8.44550677, 53.03130746,\n",
    "          12.55189451, 88.24907955, 46.83225919, 73.60652073, 61.93154437])}},\n",
    " {'LogLike': 0,\n",
    "  'X': {'likelihood': ([-4.70136419, -3.91977766, -3.91766588, -4.32866805, -6.57323634,\n",
    "          -6.55297806, -4.88325948, -4.57892136, -3.93881556, -5.39382592]),\n",
    "   'values': ([31.33814663,  9.01953367, 51.54791956, 68.19884057,  3.88218972,\n",
    "           4.05823467, 77.83650369, 73.05212442, 54.39497436, 15.6005219 ])},\n",
    "  'Y': {'likelihood': ([-3.95743761, -4.71058363, -6.95891756, -6.07314069, -3.92615684,\n",
    "          -5.66762156, -5.74341092, -3.92721403, -4.61125558, -4.092623  ]),\n",
    "   'values': ([ 4.09606841, 24.76648545, 99.34974573,  8.44550677, 53.03130746,\n",
    "          12.55189451, 88.24907955, 46.83225919, 73.60652073, 61.93154437])}},\n",
    " {'LogLike': 0,\n",
    "  'X': {'likelihood': ([-4.70136419, -3.91977766, -3.91766588, -4.32866805, -6.57323634,\n",
    "          -6.55297806, -4.1485119 , -4.57892136, -3.93881556, -5.39382592]),\n",
    "   'values': ([24.91305702, 52.02125712, 51.54791956, 68.19884057,  3.88218972,\n",
    "           4.05823467, 77.83650369, 73.05212442, 54.39497436, 15.6005219 ])},\n",
    "  'Y': {'likelihood': ([-3.95743761, -4.71058363, -6.95891756, -6.07314069, -3.92615684,\n",
    "          -5.66762156, -4.0469727 , -3.92721403, -4.61125558, -4.092623  ]),\n",
    "   'values': ([44.15077452, 24.76648545, 99.34974573,  8.44550677, 53.03130746,\n",
    "          12.55189451, 88.24907955, 46.83225919, 73.60652073, 61.93154437])}},\n",
    " {'LogLike': 0,\n",
    "  'X': {'likelihood': ([-4.70136419, -3.91977766, -3.91766588, -4.32866805, -6.57323634,\n",
    "          -3.95824062, -4.22326538, -4.57892136, -3.91473644, -3.91590952]),\n",
    "   'values': ([24.91305702, 52.02125712, 51.54791956, 68.19884057,  3.88218972,\n",
    "           4.05823467, 63.67745867, 73.05212442, 54.39497436, 15.6005219 ])},\n",
    "  'Y': {'likelihood': ([-3.95743761, -4.71058363, -6.95891756, -6.07314069, -3.92615684,\n",
    "          -3.95215249, -3.91668999, -3.92721403, -4.26047794, -3.91493473]),\n",
    "   'values': ([44.15077452, 24.76648545, 99.34974573,  8.44550677, 53.03130746,\n",
    "          12.55189451, 39.71206966, 46.83225919, 73.60652073, 61.93154437])}},\n",
    " {'LogLike': 0,\n",
    "  'X': {'likelihood': ([-4.70136419, -4.00488153, -4.3585732 , -4.32866805, -6.57323634,\n",
    "          -3.95824062, -4.22326538, -4.57892136, -3.91473644, -3.91590952]),\n",
    "   'values': ([24.91305702, 52.02125712, 51.54791956, 68.19884057,  3.88218972,\n",
    "          55.90388419, 34.28772277, 73.05212442, 50.22914874, 50.99547669])},\n",
    "  'Y': {'likelihood': ([-3.95743761, -3.9620358 , -5.06080603, -6.07314069, -3.92615684,\n",
    "          -3.95215249, -3.91668999, -3.92721403, -4.26047794, -3.91493473]),\n",
    "   'values': ([44.15077452, 24.76648545, 99.34974573,  8.44550677, 53.03130746,\n",
    "          55.47588739, 51.27096405, 46.83225919, 33.36733017, 50.459496  ])}},\n",
    " {'LogLike': 0,\n",
    "  'X': {'likelihood': ([-4.70136419, -4.00488153, -4.3585732 , -4.3472823 , -6.25882435,\n",
    "          -3.95824062, -4.22326538, -4.14361677, -4.15696714, -3.91590952]),\n",
    "   'values': ([24.91305702, 58.49520928, 31.15532138, 68.19884057,  3.88218972,\n",
    "          55.90388419, 34.28772277, 73.05212442, 50.22914874, 50.99547669])},\n",
    "  'Y': {'likelihood': ([-3.95743761, -3.9620358 , -5.06080603, -3.92869687, -4.08855849,\n",
    "          -3.95215249, -3.91668999, -4.27500855, -3.98971478, -3.91493473]),\n",
    "   'values': ([44.15077452, 56.15564763, 19.71950827,  8.44550677, 53.03130746,\n",
    "          55.47588739, 51.27096405, 46.83225919, 33.36733017, 50.459496  ])}},\n",
    " {'LogLike': 0,\n",
    "  'X': {'likelihood': ([-4.70136419, -4.00488153, -5.13632869, -4.22143169, -3.91798136,\n",
    "          -3.95824062, -4.22326538, -4.14361677, -4.15696714, -3.91590952]),\n",
    "   'values': ([24.91305702, 58.49520928, 31.15532138, 68.60347267, 93.30499779,\n",
    "          55.90388419, 34.28772277, 36.46645764, 63.92253812, 50.99547669])},\n",
    "  'Y': {'likelihood': ([-3.95743761, -3.9620358 , -4.05177734, -3.94368491, -3.91731298,\n",
    "          -3.95215249, -3.91668999, -4.27500855, -3.98971478, -3.91493473]),\n",
    "   'values': ([44.15077452, 56.15564763, 19.71950827, 46.65024665, 38.20550371,\n",
    "          55.47588739, 51.27096405, 66.97852156, 42.25176285, 50.459496  ])}},\n",
    " {'LogLike': 0,\n",
    "  'X': {'likelihood': ([-4.70136419, -4.00488153, -4.02836381, -4.22143169, -3.91798136,\n",
    "          -3.95824062, -4.22326538, -4.14361677, -3.94165175, -3.91590952]),\n",
    "   'values': ([24.91305702, 58.49520928, 18.73778152, 65.66552601, 48.37259687,\n",
    "          55.90388419, 34.28772277, 36.46645764, 63.92253812, 50.99547669])},\n",
    "  'Y': {'likelihood': ([-3.95743761, -3.9620358 , -4.19784908, -3.94368491, -3.91731298,\n",
    "          -3.95215249, -3.91668999, -4.27500855, -4.0358744 , -3.91493473]),\n",
    "   'values': ([44.15077452, 56.15564763, 60.47307138, 54.81780886, 51.45387018,\n",
    "          55.47588739, 51.27096405, 66.97852156, 42.25176285, 50.459496  ])}},\n",
    " {'LogLike': 0,\n",
    "  'X': {'likelihood': ([-4.01142065, -3.98427856, -4.10265879, -4.22143169, -3.91798136,\n",
    "          -3.95824062, -4.22326538, -4.14361677, -3.94165175, -3.91590952]),\n",
    "   'values': ([24.91305702, 58.49520928, 40.46299827, 65.66552601, 48.37259687,\n",
    "          55.90388419, 34.28772277, 36.46645764, 54.64593916, 50.99547669])},\n",
    "  'Y': {'likelihood': ([-3.92441286, -3.96156628, -3.91512958, -3.94368491, -3.91731298,\n",
    "          -3.95215249, -3.91668999, -4.27500855, -4.0358744 , -3.91493473]),\n",
    "   'values': ([44.15077452, 56.15564763, 34.94866719, 54.81780886, 51.45387018,\n",
    "          55.47588739, 51.27096405, 66.97852156, 40.15302733, 50.459496  ])}},\n",
    " {'LogLike': 0,\n",
    "  'X': {'likelihood': ([-4.01142065, -3.98427856, -4.10265879, -4.11808946, -3.91798136,\n",
    "          -3.95824062, -4.22326538, -3.94111683, -3.94165175, -3.91590952]),\n",
    "   'values': ([41.20228014, 42.53768106, 62.26337597, 65.66552601, 48.37259687,\n",
    "          55.90388419, 34.28772277, 36.46645764, 54.64593916, 50.99547669])},\n",
    "  'Y': {'likelihood': ([-3.92441286, -3.96156628, -3.91512958, -3.92316532, -3.91731298,\n",
    "          -3.95215249, -3.91668999, -3.91510966, -4.0358744 , -3.91493473]),\n",
    "   'values': ([52.79170895, 56.12506182, 50.60582091, 54.81780886, 51.45387018,\n",
    "          55.47588739, 51.27096405, 66.97852156, 40.15302733, 50.459496  ])}},\n",
    " {'LogLike': 0,\n",
    "  'X': {'likelihood': ([-4.01142065, -3.96433452, -4.10265879, -3.98060424, -3.91798136,\n",
    "          -3.95824062, -4.03482069, -3.94111683, -4.02508103, -3.91590952]),\n",
    "   'values': ([41.20228014, 42.53768106, 62.26337597, 62.75675993, 48.37259687,\n",
    "          55.90388419, 34.28772277, 45.40034605, 54.64593916, 50.99547669])},\n",
    "  'Y': {'likelihood': ([-3.92441286, -3.92583725, -3.91512958, -3.91570848, -3.91731298,\n",
    "          -3.95215249, -4.02669096, -3.91510966, -3.93850028, -3.91493473]),\n",
    "   'values': ([52.79170895, 56.12506182, 50.60582091, 52.60683875, 51.45387018,\n",
    "          55.47588739, 51.27096405, 50.59252463, 40.15302733, 50.459496  ])}}]\n"
   ]
  },
  {
   "cell_type": "code",
   "execution_count": 16,
   "metadata": {},
   "outputs": [],
   "source": [
    "import numpy as np\n",
    "import matplotlib.pyplot as plt\n",
    "from matplotlib.animation import FuncAnimation\n",
    "import matplotlib.animation as animation"
   ]
  },
  {
   "cell_type": "code",
   "execution_count": 23,
   "metadata": {},
   "outputs": [
    {
     "ename": "IndexError",
     "evalue": "list index out of range",
     "output_type": "error",
     "traceback": [
      "\u001b[0;31m---------------------------------------------------------------------------\u001b[0m",
      "\u001b[0;31mAttributeError\u001b[0m                            Traceback (most recent call last)",
      "File \u001b[0;32m/opt/homebrew/Caskroom/miniconda/base/envs/gambitenv/lib/python3.9/site-packages/matplotlib/animation.py:223\u001b[0m, in \u001b[0;36mAbstractMovieWriter.saving\u001b[0;34m(self, fig, outfile, dpi, *args, **kwargs)\u001b[0m\n\u001b[1;32m    222\u001b[0m \u001b[38;5;28;01mtry\u001b[39;00m:\n\u001b[0;32m--> 223\u001b[0m     \u001b[38;5;28;01myield\u001b[39;00m \u001b[38;5;28mself\u001b[39m\n\u001b[1;32m    224\u001b[0m \u001b[38;5;28;01mfinally\u001b[39;00m:\n",
      "File \u001b[0;32m/opt/homebrew/Caskroom/miniconda/base/envs/gambitenv/lib/python3.9/site-packages/matplotlib/animation.py:1085\u001b[0m, in \u001b[0;36mAnimation.save\u001b[0;34m(self, filename, writer, fps, dpi, codec, bitrate, extra_args, metadata, extra_anim, savefig_kwargs, progress_callback)\u001b[0m\n\u001b[1;32m   1083\u001b[0m \u001b[38;5;28;01mfor\u001b[39;00m anim, d \u001b[38;5;129;01min\u001b[39;00m \u001b[38;5;28mzip\u001b[39m(all_anim, data):\n\u001b[1;32m   1084\u001b[0m     \u001b[38;5;66;03m# TODO: See if turning off blit is really necessary\u001b[39;00m\n\u001b[0;32m-> 1085\u001b[0m     \u001b[43manim\u001b[49m\u001b[38;5;241;43m.\u001b[39;49m\u001b[43m_draw_next_frame\u001b[49m\u001b[43m(\u001b[49m\u001b[43md\u001b[49m\u001b[43m,\u001b[49m\u001b[43m \u001b[49m\u001b[43mblit\u001b[49m\u001b[38;5;241;43m=\u001b[39;49m\u001b[38;5;28;43;01mFalse\u001b[39;49;00m\u001b[43m)\u001b[49m\n\u001b[1;32m   1086\u001b[0m     \u001b[38;5;28;01mif\u001b[39;00m progress_callback \u001b[38;5;129;01mis\u001b[39;00m \u001b[38;5;129;01mnot\u001b[39;00m \u001b[38;5;28;01mNone\u001b[39;00m:\n",
      "File \u001b[0;32m/opt/homebrew/Caskroom/miniconda/base/envs/gambitenv/lib/python3.9/site-packages/matplotlib/animation.py:1120\u001b[0m, in \u001b[0;36mAnimation._draw_next_frame\u001b[0;34m(self, framedata, blit)\u001b[0m\n\u001b[1;32m   1119\u001b[0m \u001b[38;5;28mself\u001b[39m\u001b[38;5;241m.\u001b[39m_pre_draw(framedata, blit)\n\u001b[0;32m-> 1120\u001b[0m \u001b[38;5;28;43mself\u001b[39;49m\u001b[38;5;241;43m.\u001b[39;49m\u001b[43m_draw_frame\u001b[49m\u001b[43m(\u001b[49m\u001b[43mframedata\u001b[49m\u001b[43m)\u001b[49m\n\u001b[1;32m   1121\u001b[0m \u001b[38;5;28mself\u001b[39m\u001b[38;5;241m.\u001b[39m_post_draw(framedata, blit)\n",
      "File \u001b[0;32m/opt/homebrew/Caskroom/miniconda/base/envs/gambitenv/lib/python3.9/site-packages/matplotlib/animation.py:1746\u001b[0m, in \u001b[0;36mFuncAnimation._draw_frame\u001b[0;34m(self, framedata)\u001b[0m\n\u001b[1;32m   1744\u001b[0m \u001b[38;5;66;03m# Call the func with framedata and args. If blitting is desired,\u001b[39;00m\n\u001b[1;32m   1745\u001b[0m \u001b[38;5;66;03m# func needs to return a sequence of any artists that were modified.\u001b[39;00m\n\u001b[0;32m-> 1746\u001b[0m \u001b[38;5;28mself\u001b[39m\u001b[38;5;241m.\u001b[39m_drawn_artists \u001b[38;5;241m=\u001b[39m \u001b[38;5;28;43mself\u001b[39;49m\u001b[38;5;241;43m.\u001b[39;49m\u001b[43m_func\u001b[49m\u001b[43m(\u001b[49m\u001b[43mframedata\u001b[49m\u001b[43m,\u001b[49m\u001b[43m \u001b[49m\u001b[38;5;241;43m*\u001b[39;49m\u001b[38;5;28;43mself\u001b[39;49m\u001b[38;5;241;43m.\u001b[39;49m\u001b[43m_args\u001b[49m\u001b[43m)\u001b[49m\n\u001b[1;32m   1748\u001b[0m \u001b[38;5;28;01mif\u001b[39;00m \u001b[38;5;28mself\u001b[39m\u001b[38;5;241m.\u001b[39m_blit:\n",
      "Cell \u001b[0;32mIn[23], line 15\u001b[0m, in \u001b[0;36mupdate\u001b[0;34m(frame)\u001b[0m\n\u001b[1;32m     14\u001b[0m \u001b[38;5;28;01mdef\u001b[39;00m \u001b[38;5;21mupdate\u001b[39m(frame):\n\u001b[0;32m---> 15\u001b[0m     \u001b[43mplot1\u001b[49m\u001b[38;5;241;43m.\u001b[39;49m\u001b[43mset_xdata\u001b[49m(data[frame][\u001b[38;5;124m'\u001b[39m\u001b[38;5;124mX\u001b[39m\u001b[38;5;124m'\u001b[39m][\u001b[38;5;124m'\u001b[39m\u001b[38;5;124mvalues\u001b[39m\u001b[38;5;124m'\u001b[39m][\u001b[38;5;241m1\u001b[39m:])\n\u001b[1;32m     16\u001b[0m     plot1\u001b[38;5;241m.\u001b[39mset_ydata(data[frame][\u001b[38;5;124m'\u001b[39m\u001b[38;5;124mY\u001b[39m\u001b[38;5;124m'\u001b[39m][\u001b[38;5;124m'\u001b[39m\u001b[38;5;124mvalues\u001b[39m\u001b[38;5;124m'\u001b[39m][\u001b[38;5;241m1\u001b[39m:])\n",
      "\u001b[0;31mAttributeError\u001b[0m: 'PathCollection' object has no attribute 'set_xdata'",
      "\nDuring handling of the above exception, another exception occurred:\n",
      "\u001b[0;31mIndexError\u001b[0m                                Traceback (most recent call last)",
      "Cell \u001b[0;32mIn[23], line 22\u001b[0m\n\u001b[1;32m     18\u001b[0m     plot2\u001b[38;5;241m.\u001b[39mset_ydata(data[frame][\u001b[38;5;124m'\u001b[39m\u001b[38;5;124mY\u001b[39m\u001b[38;5;124m'\u001b[39m][\u001b[38;5;124m'\u001b[39m\u001b[38;5;124mvalues\u001b[39m\u001b[38;5;124m'\u001b[39m][\u001b[38;5;241m0\u001b[39m])\n\u001b[1;32m     20\u001b[0m ani \u001b[38;5;241m=\u001b[39m FuncAnimation(fig, update, frames\u001b[38;5;241m=\u001b[39mnp\u001b[38;5;241m.\u001b[39mlinspace(\u001b[38;5;241m0\u001b[39m, \u001b[38;5;241m10\u001b[39m, \u001b[38;5;241m10\u001b[39m), init_func\u001b[38;5;241m=\u001b[39minit, blit\u001b[38;5;241m=\u001b[39m\u001b[38;5;28;01mTrue\u001b[39;00m)\n\u001b[0;32m---> 22\u001b[0m \u001b[43mani\u001b[49m\u001b[38;5;241;43m.\u001b[39;49m\u001b[43msave\u001b[49m\u001b[43m(\u001b[49m\u001b[38;5;124;43m\"\u001b[39;49m\u001b[38;5;124;43manimation.gif\u001b[39;49m\u001b[38;5;124;43m\"\u001b[39;49m\u001b[43m,\u001b[49m\u001b[43m \u001b[49m\u001b[43mwriter\u001b[49m\u001b[38;5;241;43m=\u001b[39;49m\u001b[43mwriter\u001b[49m\u001b[43m)\u001b[49m\n\u001b[1;32m     24\u001b[0m plt\u001b[38;5;241m.\u001b[39mshow()\n",
      "File \u001b[0;32m/opt/homebrew/Caskroom/miniconda/base/envs/gambitenv/lib/python3.9/site-packages/matplotlib/animation.py:1089\u001b[0m, in \u001b[0;36mAnimation.save\u001b[0;34m(self, filename, writer, fps, dpi, codec, bitrate, extra_args, metadata, extra_anim, savefig_kwargs, progress_callback)\u001b[0m\n\u001b[1;32m   1087\u001b[0m         progress_callback(frame_number, total_frames)\n\u001b[1;32m   1088\u001b[0m         frame_number \u001b[38;5;241m+\u001b[39m\u001b[38;5;241m=\u001b[39m \u001b[38;5;241m1\u001b[39m\n\u001b[0;32m-> 1089\u001b[0m writer\u001b[38;5;241m.\u001b[39mgrab_frame(\u001b[38;5;241m*\u001b[39m\u001b[38;5;241m*\u001b[39msavefig_kwargs)\n",
      "File \u001b[0;32m/opt/homebrew/Caskroom/miniconda/base/envs/gambitenv/lib/python3.9/contextlib.py:137\u001b[0m, in \u001b[0;36m_GeneratorContextManager.__exit__\u001b[0;34m(self, typ, value, traceback)\u001b[0m\n\u001b[1;32m    135\u001b[0m     value \u001b[38;5;241m=\u001b[39m typ()\n\u001b[1;32m    136\u001b[0m \u001b[38;5;28;01mtry\u001b[39;00m:\n\u001b[0;32m--> 137\u001b[0m     \u001b[38;5;28;43mself\u001b[39;49m\u001b[38;5;241;43m.\u001b[39;49m\u001b[43mgen\u001b[49m\u001b[38;5;241;43m.\u001b[39;49m\u001b[43mthrow\u001b[49m\u001b[43m(\u001b[49m\u001b[43mtyp\u001b[49m\u001b[43m,\u001b[49m\u001b[43m \u001b[49m\u001b[43mvalue\u001b[49m\u001b[43m,\u001b[49m\u001b[43m \u001b[49m\u001b[43mtraceback\u001b[49m\u001b[43m)\u001b[49m\n\u001b[1;32m    138\u001b[0m \u001b[38;5;28;01mexcept\u001b[39;00m \u001b[38;5;167;01mStopIteration\u001b[39;00m \u001b[38;5;28;01mas\u001b[39;00m exc:\n\u001b[1;32m    139\u001b[0m     \u001b[38;5;66;03m# Suppress StopIteration *unless* it's the same exception that\u001b[39;00m\n\u001b[1;32m    140\u001b[0m     \u001b[38;5;66;03m# was passed to throw().  This prevents a StopIteration\u001b[39;00m\n\u001b[1;32m    141\u001b[0m     \u001b[38;5;66;03m# raised inside the \"with\" statement from being suppressed.\u001b[39;00m\n\u001b[1;32m    142\u001b[0m     \u001b[38;5;28;01mreturn\u001b[39;00m exc \u001b[38;5;129;01mis\u001b[39;00m \u001b[38;5;129;01mnot\u001b[39;00m value\n",
      "File \u001b[0;32m/opt/homebrew/Caskroom/miniconda/base/envs/gambitenv/lib/python3.9/site-packages/matplotlib/animation.py:225\u001b[0m, in \u001b[0;36mAbstractMovieWriter.saving\u001b[0;34m(self, fig, outfile, dpi, *args, **kwargs)\u001b[0m\n\u001b[1;32m    223\u001b[0m     \u001b[38;5;28;01myield\u001b[39;00m \u001b[38;5;28mself\u001b[39m\n\u001b[1;32m    224\u001b[0m \u001b[38;5;28;01mfinally\u001b[39;00m:\n\u001b[0;32m--> 225\u001b[0m     \u001b[38;5;28;43mself\u001b[39;49m\u001b[38;5;241;43m.\u001b[39;49m\u001b[43mfinish\u001b[49m\u001b[43m(\u001b[49m\u001b[43m)\u001b[49m\n",
      "File \u001b[0;32m/opt/homebrew/Caskroom/miniconda/base/envs/gambitenv/lib/python3.9/site-packages/matplotlib/animation.py:495\u001b[0m, in \u001b[0;36mPillowWriter.finish\u001b[0;34m(self)\u001b[0m\n\u001b[1;32m    494\u001b[0m \u001b[38;5;28;01mdef\u001b[39;00m \u001b[38;5;21mfinish\u001b[39m(\u001b[38;5;28mself\u001b[39m):\n\u001b[0;32m--> 495\u001b[0m     \u001b[38;5;28;43mself\u001b[39;49m\u001b[38;5;241;43m.\u001b[39;49m\u001b[43m_frames\u001b[49m\u001b[43m[\u001b[49m\u001b[38;5;241;43m0\u001b[39;49m\u001b[43m]\u001b[49m\u001b[38;5;241m.\u001b[39msave(\n\u001b[1;32m    496\u001b[0m         \u001b[38;5;28mself\u001b[39m\u001b[38;5;241m.\u001b[39moutfile, save_all\u001b[38;5;241m=\u001b[39m\u001b[38;5;28;01mTrue\u001b[39;00m, append_images\u001b[38;5;241m=\u001b[39m\u001b[38;5;28mself\u001b[39m\u001b[38;5;241m.\u001b[39m_frames[\u001b[38;5;241m1\u001b[39m:],\n\u001b[1;32m    497\u001b[0m         duration\u001b[38;5;241m=\u001b[39m\u001b[38;5;28mint\u001b[39m(\u001b[38;5;241m1000\u001b[39m \u001b[38;5;241m/\u001b[39m \u001b[38;5;28mself\u001b[39m\u001b[38;5;241m.\u001b[39mfps), loop\u001b[38;5;241m=\u001b[39m\u001b[38;5;241m0\u001b[39m)\n",
      "\u001b[0;31mIndexError\u001b[0m: list index out of range"
     ]
    },
    {
     "data": {
      "image/png": "[encoded data removed]",
      "text/plain": [
       "<Figure size 1000x1000 with 1 Axes>"
      ]
     },
     "metadata": {},
     "output_type": "display_data"
    }
   ],
   "source": [
    "fig, ax = plt.subplots(figsize=(10,10))\n",
    "plot1 = ax.scatter([], [], color='black', alpha=0.3, edgecolors='black')\n",
    "plot2 = ax.scatter([], [], color='red')\n",
    "\n",
    "\n",
    "\n",
    "def init():\n",
    "    ax.set_xlabel(\"X\")\n",
    "    ax.set_ylabel(\"Y\")\n",
    "    ax.set_xlim(0,100)\n",
    "    ax.set_ylim(0,100)\n",
    "    return plot1, plot2\n",
    "\n",
    "def update(frame):\n",
    "    plot1.set_xdata(data[frame]['X']['values'][1:])\n",
    "    plot1.set_ydata(data[frame]['Y']['values'][1:])\n",
    "    plot2.set_xdata(data[frame]['X']['values'][0])\n",
    "    plot2.set_ydata(data[frame]['Y']['values'][0])\n",
    "\n",
    "ani = FuncAnimation(fig, update, frames=np.linspace(0, 10, 10), init_func=init, blit=True)\n",
    "writer = animation.PillowWriter(fps=1)\n",
    "ani.save(\"animation.gif\", writer=writer)\n",
    "\n",
    "plt.show()\n",
    "\n"
   ]
  },
  {
   "cell_type": "code",
   "execution_count": null,
   "metadata": {},
   "outputs": [],
   "source": []
  }
 ],
 "metadata": {
  "kernelspec": {
   "display_name": "venv",
   "language": "python",
   "name": "python3"
  },
  "language_info": {
   "codemirror_mode": {
    "name": "ipython",
    "version": 3
   },
   "file_extension": ".py",
   "mimetype": "text/x-python",
   "name": "python",
   "nbconvert_exporter": "python",
   "pygments_lexer": "ipython3",
   "version": "3.9.19"
  }
 },
 "nbformat": 4,
 "nbformat_minor": 2
}
